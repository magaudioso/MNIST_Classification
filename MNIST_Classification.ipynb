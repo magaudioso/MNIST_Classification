{
 "cells": [
  {
   "cell_type": "markdown",
   "metadata": {},
   "source": [
    "# Deep Neural Network for MNIST Dataset Classificaiton"
   ]
  },
  {
   "cell_type": "markdown",
   "metadata": {},
   "source": [
    "#### Info about the dataset:\n",
    "##### Content: 70,000 images (28x28 pixels) of handwritten integers (0-9)\n",
    "##### Analysis: There are 10 integers to account for, this is a classification problem with 10 classes/outputs.\n",
    "##### Goal: Build a model which can sucessfully predict what integer a given MNIST image is.\n"
   ]
  },
  {
   "cell_type": "markdown",
   "metadata": {},
   "source": [
    "# Import the relevant packages"
   ]
  },
  {
   "cell_type": "code",
   "execution_count": 1,
   "metadata": {},
   "outputs": [],
   "source": [
    "#Standard ML libraries\n",
    "import numpy as np\n",
    "import tensorflow as tf\n",
    "#Use the tf version of the MNIST dataset via the tfds module\n",
    "import tensorflow_datasets as tfds"
   ]
  },
  {
   "cell_type": "markdown",
   "metadata": {},
   "source": [
    "# Data\n",
    "#### Staging and PreProcessing"
   ]
  },
  {
   "cell_type": "code",
   "execution_count": 42,
   "metadata": {},
   "outputs": [],
   "source": [
    "#Stage the data w/two associated arguments: with_info and as_supervised \n",
    "#with_info = True, attaches a tuple to the table that contains metadata about this version of MNIST dataset\n",
    "#as_supervised = True, loads data for supervised learning (inputs, targets) target stucture\n",
    "#load the actual data to mnist_dataset, load th metadata to mnist_info\n",
    "mnist_dataset, mnist_info = tfds.load(name = 'mnist', with_info = True, as_supervised = True)\n",
    "\n",
    "#assign training and test data to mnist_train/mnist_test w/ built in ['train']/['test']\n",
    "#just like pandas dataframes\n",
    "mnist_train, mnist_test = mnist_dataset['train'], mnist_dataset['test']\n",
    "\n",
    "#there is no reference to validation datasets in the MNIST tf dataset \n",
    "#we need to make one\n",
    "\n",
    "#count 10% of the training data\n",
    "num_validation_samples = 0.1*mnist_info.splits['train'].num_examples\n",
    "#make sure that number is an integer\n",
    "num_validation_samples = tf.cast(num_validation_samples, tf.int64)\n",
    "\n",
    "#count the test data\n",
    "num_test_samples = mnist_info.splits['test'].num_examples\n",
    "#make sure that count is a integer\n",
    "num_test_samples = tf.cast(num_test_samples, tf.int64)\n",
    "\n",
    "#now it is time to standardize our data\n",
    "#write scale func, w/ param (image, label) --> this is for data.map(func) method\n",
    "#.map() method -- takes a func that scales images/labels and returns images/labels\n",
    "#.map() will then apply that transformation scaling embedded in a function to the whole dataset\n",
    "\n",
    "#how to best scale: scale for numerical stability\n",
    "#to ensure nice and easy calculations, we want to transform all data to be b/t 0<->1\n",
    "def scale(image, label):\n",
    "#make sure every number is a float for below calculations\n",
    "    image = tf.cast(image, tf.float32)\n",
    "#divide each image element by 255, to ensure all elements are transformed to be 0<->1; \n",
    "#255 b/c there are 0-255 shades of grey(rgb)\n",
    "    image /= 255.\n",
    "    return image, label\n",
    "\n",
    "#apply .map() method w/scale func to mnist_train dataset == assign it to a new variable\n",
    "scaled_train_and_validation_dataset = mnist_train.map(scale)\n",
    "#apply .map() method w/scale func to mnist_test dataset == assign it to a new variable\n",
    "test_data = mnist_test.map(scale)\n",
    "\n",
    "#now that our data is scaled, we want to shuffle it\n",
    "#use .shuffle() method to shuffle dataset\n",
    "#assign buffer size so that we don't overload computer memory\n",
    "BUFFER_SIZE = 10000 \n",
    "#shuffle the train and validation data\n",
    "shuffled_train_and_validation_dataset = scaled_train_and_validation_dataset.shuffle(BUFFER_SIZE)\n",
    "#use .take() method to take shuffled train data and so that we can use it as validating data\n",
    "validation_data = shuffled_train_and_validation_dataset.take(num_validation_samples)\n",
    "#rename the renaming 90% of the shuffled train data to easier variable name to type\n",
    "train_data = shuffled_train_and_validation_dataset.skip(num_validation_samples)\n",
    "\n",
    "#determine a batch size such that we can slowly work our way through training data\n",
    "BATCH_SIZE = 100\n",
    "\n",
    "#assign batch size\n",
    "train_data = train_data.batch(BATCH_SIZE)\n",
    "#assign the batch size to the the total amount of validation samples\n",
    "#we dont batch validation data because, we only forward propogate validation data in  neural net\n",
    "#we only need to batch train data becauswe we are backwards/forwards propogating in neural net\n",
    "validation_data = validation_data.batch(num_validation_samples)\n",
    "#same logic applies for test_data\n",
    "test_data = test_data.batch(num_test_samples)\n",
    "\n",
    "#use python func next(iter()) to iterate through the 'same' validation data\n",
    "#assign two different variables, to deal with input tuple length\n",
    "validation_inputs, validation_targets = next(iter(validation_data))"
   ]
  },
  {
   "cell_type": "markdown",
   "metadata": {},
   "source": [
    "## Model"
   ]
  },
  {
   "cell_type": "code",
   "execution_count": 55,
   "metadata": {},
   "outputs": [],
   "source": [
    "inputs_size = 784\n",
    "output_size = 10\n",
    "#use same hidden layer size for both width/depth\n",
    "hidden_layer_size = 250\n",
    "\n",
    "#build model \n",
    "model = tf.keras.Sequential([\n",
    "#deifine input layer: given input tensor of rank 3, 28x28x1\n",
    "#b/c this is not a CNN, we need to flatten images\n",
    "#use.layers.Flatten() method that takes our tensor and flattens it to a vector, (28,28,1) = (784,)\n",
    "#what we are creating is a 'feed forward' neural net\n",
    "        tf.keras.layers.Flatten(input_shape = (28,28,1)),\n",
    "#tf.keras.layers.Dense() is essentially = output = activation_func(dot(input,weight) + bias)\n",
    "        tf.keras.layers.Dense(hidden_layer_size, activation = 'relu'),\n",
    "        tf.keras.layers.Dense(hidden_layer_size, activation = 'relu'),\n",
    "#do the same dot product using .layers.Dense(), except set the number of outputs\n",
    "#use 'softmax' activation func so that we get the properly size output tensor\n",
    "        tf.keras.layers.Dense(output_size, activation = 'softmax')  \n",
    "        ])\n",
    "\n"
   ]
  },
  {
   "cell_type": "markdown",
   "metadata": {},
   "source": [
    "## Optimizer/Optimization Algo"
   ]
  },
  {
   "cell_type": "code",
   "execution_count": 56,
   "metadata": {},
   "outputs": [],
   "source": [
    "#model.compile() method makes this step simple\n",
    "#optimizer = 'adam' best optimization algorithim for this kind of classification\n",
    "#loss func = we want one-hot encoding, in tf the correct func is sparse_categorical_crossentropy\n",
    "model.compile(optimizer = 'adam', loss = 'sparse_categorical_crossentropy', metrics =['accuracy'])"
   ]
  },
  {
   "cell_type": "markdown",
   "metadata": {},
   "source": [
    "# Train the model"
   ]
  },
  {
   "cell_type": "code",
   "execution_count": 52,
   "metadata": {},
   "outputs": [
    {
     "name": "stdout",
     "output_type": "stream",
     "text": [
      "Epoch 1/5\n",
      "540/540 - 3s - loss: 0.2534 - accuracy: 0.9259 - val_loss: 0.1147 - val_accuracy: 0.9642\n",
      "Epoch 2/5\n",
      "540/540 - 3s - loss: 0.0963 - accuracy: 0.9705 - val_loss: 0.0742 - val_accuracy: 0.9777\n",
      "Epoch 3/5\n",
      "540/540 - 3s - loss: 0.0662 - accuracy: 0.9794 - val_loss: 0.0495 - val_accuracy: 0.9848\n",
      "Epoch 4/5\n",
      "540/540 - 3s - loss: 0.0449 - accuracy: 0.9864 - val_loss: 0.0380 - val_accuracy: 0.9890\n",
      "Epoch 5/5\n",
      "540/540 - 3s - loss: 0.0362 - accuracy: 0.9889 - val_loss: 0.0306 - val_accuracy: 0.9913\n"
     ]
    },
    {
     "data": {
      "text/plain": [
       "<tensorflow.python.keras.callbacks.History at 0x22fef771220>"
      ]
     },
     "execution_count": 52,
     "metadata": {},
     "output_type": "execute_result"
    }
   ],
   "source": [
    "NUM_EPOCHS = 5\n",
    "\n",
    "#use .fit() method to fit the model with inputs, epoch#, and validationo data\n",
    "model.fit(train_data, \n",
    "          epochs = NUM_EPOCHS, \n",
    "          validation_data = (validation_inputs, validation_targets), \n",
    "          verbose = 2)\n"
   ]
  },
  {
   "cell_type": "markdown",
   "metadata": {},
   "source": [
    "## Test the model"
   ]
  },
  {
   "cell_type": "code",
   "execution_count": 53,
   "metadata": {},
   "outputs": [
    {
     "name": "stdout",
     "output_type": "stream",
     "text": [
      "1/1 [==============================] - 1s 546ms/step - loss: 0.0776 - accuracy: 0.9774\n"
     ]
    }
   ],
   "source": [
    "test_loss, test_accuracy = model.evaluate(test_data)"
   ]
  },
  {
   "cell_type": "code",
   "execution_count": 54,
   "metadata": {},
   "outputs": [
    {
     "name": "stdout",
     "output_type": "stream",
     "text": [
      "Test loss:0.08   Test Accuracy:97.74%\n"
     ]
    }
   ],
   "source": [
    "print('Test loss:{0:.2f}   Test Accuracy:{1:.2f}%'.format(test_loss, test_accuracy*100))"
   ]
  },
  {
   "cell_type": "code",
   "execution_count": null,
   "metadata": {},
   "outputs": [],
   "source": []
  }
 ],
 "metadata": {
  "kernelspec": {
   "display_name": "Python [conda env:python3.8_TF2.0]",
   "language": "python",
   "name": "conda-env-python3.8_TF2.0-py"
  },
  "language_info": {
   "codemirror_mode": {
    "name": "ipython",
    "version": 3
   },
   "file_extension": ".py",
   "mimetype": "text/x-python",
   "name": "python",
   "nbconvert_exporter": "python",
   "pygments_lexer": "ipython3",
   "version": "3.8.5"
  }
 },
 "nbformat": 4,
 "nbformat_minor": 4
}
